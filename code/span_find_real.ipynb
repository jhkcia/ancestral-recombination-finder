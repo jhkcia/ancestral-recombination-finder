{
 "cells": [
  {
   "cell_type": "code",
   "execution_count": 7,
   "metadata": {},
   "outputs": [
    {
     "name": "stdout",
     "output_type": "stream",
     "text": [
      "The autoreload extension is already loaded. To reload it, use:\n",
      "  %reload_ext autoreload\n"
     ]
    }
   ],
   "source": [
    "%load_ext autoreload\n",
    "%autoreload 2"
   ]
  },
  {
   "cell_type": "code",
   "execution_count": 2,
   "metadata": {},
   "outputs": [
    {
     "name": "stdout",
     "output_type": "stream",
     "text": [
      "0, 123477\n",
      "10000, 123477\n",
      "20000, 123477\n",
      "30000, 123477\n",
      "40000, 123477\n",
      "50000, 123477\n",
      "60000, 123477\n",
      "70000, 123477\n",
      "80000, 123477\n",
      "90000, 123477\n",
      "100000, 123477\n",
      "110000, 123477\n",
      "120000, 123477\n"
     ]
    }
   ],
   "source": [
    "from SNPDataSet import get_snp_dfs\n",
    "from utils import convert_mutation_df_to_vcf\n",
    "\n",
    "muts = get_snp_dfs()\n",
    "vcf = convert_mutation_df_to_vcf(muts)\n"
   ]
  },
  {
   "cell_type": "code",
   "execution_count": 3,
   "metadata": {},
   "outputs": [
    {
     "data": {
      "text/html": [
       "<div>\n",
       "<style scoped>\n",
       "    .dataframe tbody tr th:only-of-type {\n",
       "        vertical-align: middle;\n",
       "    }\n",
       "\n",
       "    .dataframe tbody tr th {\n",
       "        vertical-align: top;\n",
       "    }\n",
       "\n",
       "    .dataframe thead th {\n",
       "        text-align: right;\n",
       "    }\n",
       "</style>\n",
       "<table border=\"1\" class=\"dataframe\">\n",
       "  <thead>\n",
       "    <tr style=\"text-align: right;\">\n",
       "      <th></th>\n",
       "      <th>48055094</th>\n",
       "      <th>48055095</th>\n",
       "      <th>48055110</th>\n",
       "      <th>48055247</th>\n",
       "      <th>48055250</th>\n",
       "      <th>48055294</th>\n",
       "      <th>48055331</th>\n",
       "      <th>48055340</th>\n",
       "      <th>48055357</th>\n",
       "      <th>48055364</th>\n",
       "      <th>...</th>\n",
       "      <th>48084704</th>\n",
       "      <th>48084720</th>\n",
       "      <th>48084731</th>\n",
       "      <th>48084747</th>\n",
       "      <th>48084770</th>\n",
       "      <th>48084820</th>\n",
       "      <th>48084822</th>\n",
       "      <th>48084863</th>\n",
       "      <th>48084980</th>\n",
       "      <th>48084989</th>\n",
       "    </tr>\n",
       "  </thead>\n",
       "  <tbody>\n",
       "    <tr>\n",
       "      <th>HG03055_0</th>\n",
       "      <td>1</td>\n",
       "      <td>0</td>\n",
       "      <td>0</td>\n",
       "      <td>0</td>\n",
       "      <td>0</td>\n",
       "      <td>0</td>\n",
       "      <td>0</td>\n",
       "      <td>0</td>\n",
       "      <td>1</td>\n",
       "      <td>0</td>\n",
       "      <td>...</td>\n",
       "      <td>0</td>\n",
       "      <td>0</td>\n",
       "      <td>0</td>\n",
       "      <td>0</td>\n",
       "      <td>0</td>\n",
       "      <td>0</td>\n",
       "      <td>0</td>\n",
       "      <td>0</td>\n",
       "      <td>0</td>\n",
       "      <td>0</td>\n",
       "    </tr>\n",
       "    <tr>\n",
       "      <th>HG03485_1</th>\n",
       "      <td>1</td>\n",
       "      <td>0</td>\n",
       "      <td>0</td>\n",
       "      <td>0</td>\n",
       "      <td>0</td>\n",
       "      <td>0</td>\n",
       "      <td>0</td>\n",
       "      <td>0</td>\n",
       "      <td>1</td>\n",
       "      <td>0</td>\n",
       "      <td>...</td>\n",
       "      <td>0</td>\n",
       "      <td>0</td>\n",
       "      <td>0</td>\n",
       "      <td>0</td>\n",
       "      <td>0</td>\n",
       "      <td>0</td>\n",
       "      <td>0</td>\n",
       "      <td>0</td>\n",
       "      <td>0</td>\n",
       "      <td>0</td>\n",
       "    </tr>\n",
       "    <tr>\n",
       "      <th>NA20505_1</th>\n",
       "      <td>0</td>\n",
       "      <td>1</td>\n",
       "      <td>0</td>\n",
       "      <td>0</td>\n",
       "      <td>0</td>\n",
       "      <td>0</td>\n",
       "      <td>0</td>\n",
       "      <td>0</td>\n",
       "      <td>0</td>\n",
       "      <td>0</td>\n",
       "      <td>...</td>\n",
       "      <td>0</td>\n",
       "      <td>0</td>\n",
       "      <td>0</td>\n",
       "      <td>1</td>\n",
       "      <td>0</td>\n",
       "      <td>1</td>\n",
       "      <td>0</td>\n",
       "      <td>0</td>\n",
       "      <td>0</td>\n",
       "      <td>1</td>\n",
       "    </tr>\n",
       "    <tr>\n",
       "      <th>HG02256_1</th>\n",
       "      <td>0</td>\n",
       "      <td>0</td>\n",
       "      <td>1</td>\n",
       "      <td>0</td>\n",
       "      <td>0</td>\n",
       "      <td>0</td>\n",
       "      <td>0</td>\n",
       "      <td>0</td>\n",
       "      <td>0</td>\n",
       "      <td>0</td>\n",
       "      <td>...</td>\n",
       "      <td>0</td>\n",
       "      <td>0</td>\n",
       "      <td>0</td>\n",
       "      <td>1</td>\n",
       "      <td>0</td>\n",
       "      <td>0</td>\n",
       "      <td>0</td>\n",
       "      <td>0</td>\n",
       "      <td>0</td>\n",
       "      <td>0</td>\n",
       "    </tr>\n",
       "    <tr>\n",
       "      <th>HG01305_0</th>\n",
       "      <td>0</td>\n",
       "      <td>0</td>\n",
       "      <td>0</td>\n",
       "      <td>1</td>\n",
       "      <td>0</td>\n",
       "      <td>0</td>\n",
       "      <td>0</td>\n",
       "      <td>0</td>\n",
       "      <td>0</td>\n",
       "      <td>0</td>\n",
       "      <td>...</td>\n",
       "      <td>0</td>\n",
       "      <td>0</td>\n",
       "      <td>0</td>\n",
       "      <td>1</td>\n",
       "      <td>0</td>\n",
       "      <td>0</td>\n",
       "      <td>0</td>\n",
       "      <td>0</td>\n",
       "      <td>0</td>\n",
       "      <td>0</td>\n",
       "    </tr>\n",
       "    <tr>\n",
       "      <th>...</th>\n",
       "      <td>...</td>\n",
       "      <td>...</td>\n",
       "      <td>...</td>\n",
       "      <td>...</td>\n",
       "      <td>...</td>\n",
       "      <td>...</td>\n",
       "      <td>...</td>\n",
       "      <td>...</td>\n",
       "      <td>...</td>\n",
       "      <td>...</td>\n",
       "      <td>...</td>\n",
       "      <td>...</td>\n",
       "      <td>...</td>\n",
       "      <td>...</td>\n",
       "      <td>...</td>\n",
       "      <td>...</td>\n",
       "      <td>...</td>\n",
       "      <td>...</td>\n",
       "      <td>...</td>\n",
       "      <td>...</td>\n",
       "      <td>...</td>\n",
       "    </tr>\n",
       "    <tr>\n",
       "      <th>NA12829_0</th>\n",
       "      <td>0</td>\n",
       "      <td>0</td>\n",
       "      <td>0</td>\n",
       "      <td>0</td>\n",
       "      <td>0</td>\n",
       "      <td>0</td>\n",
       "      <td>0</td>\n",
       "      <td>0</td>\n",
       "      <td>0</td>\n",
       "      <td>0</td>\n",
       "      <td>...</td>\n",
       "      <td>0</td>\n",
       "      <td>0</td>\n",
       "      <td>0</td>\n",
       "      <td>1</td>\n",
       "      <td>0</td>\n",
       "      <td>0</td>\n",
       "      <td>0</td>\n",
       "      <td>0</td>\n",
       "      <td>0</td>\n",
       "      <td>0</td>\n",
       "    </tr>\n",
       "    <tr>\n",
       "      <th>NA18566_1</th>\n",
       "      <td>0</td>\n",
       "      <td>0</td>\n",
       "      <td>0</td>\n",
       "      <td>0</td>\n",
       "      <td>0</td>\n",
       "      <td>0</td>\n",
       "      <td>0</td>\n",
       "      <td>0</td>\n",
       "      <td>0</td>\n",
       "      <td>0</td>\n",
       "      <td>...</td>\n",
       "      <td>0</td>\n",
       "      <td>0</td>\n",
       "      <td>0</td>\n",
       "      <td>1</td>\n",
       "      <td>0</td>\n",
       "      <td>1</td>\n",
       "      <td>0</td>\n",
       "      <td>0</td>\n",
       "      <td>0</td>\n",
       "      <td>1</td>\n",
       "    </tr>\n",
       "    <tr>\n",
       "      <th>NA19235_1</th>\n",
       "      <td>0</td>\n",
       "      <td>0</td>\n",
       "      <td>0</td>\n",
       "      <td>0</td>\n",
       "      <td>0</td>\n",
       "      <td>0</td>\n",
       "      <td>0</td>\n",
       "      <td>0</td>\n",
       "      <td>0</td>\n",
       "      <td>0</td>\n",
       "      <td>...</td>\n",
       "      <td>0</td>\n",
       "      <td>0</td>\n",
       "      <td>0</td>\n",
       "      <td>1</td>\n",
       "      <td>0</td>\n",
       "      <td>1</td>\n",
       "      <td>0</td>\n",
       "      <td>0</td>\n",
       "      <td>0</td>\n",
       "      <td>0</td>\n",
       "    </tr>\n",
       "    <tr>\n",
       "      <th>HG03779_0</th>\n",
       "      <td>0</td>\n",
       "      <td>0</td>\n",
       "      <td>0</td>\n",
       "      <td>0</td>\n",
       "      <td>0</td>\n",
       "      <td>0</td>\n",
       "      <td>0</td>\n",
       "      <td>0</td>\n",
       "      <td>0</td>\n",
       "      <td>0</td>\n",
       "      <td>...</td>\n",
       "      <td>0</td>\n",
       "      <td>0</td>\n",
       "      <td>0</td>\n",
       "      <td>0</td>\n",
       "      <td>0</td>\n",
       "      <td>0</td>\n",
       "      <td>0</td>\n",
       "      <td>0</td>\n",
       "      <td>0</td>\n",
       "      <td>0</td>\n",
       "    </tr>\n",
       "    <tr>\n",
       "      <th>HG03792_1</th>\n",
       "      <td>0</td>\n",
       "      <td>0</td>\n",
       "      <td>0</td>\n",
       "      <td>0</td>\n",
       "      <td>0</td>\n",
       "      <td>0</td>\n",
       "      <td>0</td>\n",
       "      <td>0</td>\n",
       "      <td>0</td>\n",
       "      <td>0</td>\n",
       "      <td>...</td>\n",
       "      <td>0</td>\n",
       "      <td>0</td>\n",
       "      <td>0</td>\n",
       "      <td>0</td>\n",
       "      <td>0</td>\n",
       "      <td>0</td>\n",
       "      <td>0</td>\n",
       "      <td>0</td>\n",
       "      <td>0</td>\n",
       "      <td>0</td>\n",
       "    </tr>\n",
       "  </tbody>\n",
       "</table>\n",
       "<p>5008 rows × 928 columns</p>\n",
       "</div>"
      ],
      "text/plain": [
       "           48055094  48055095  48055110  48055247  48055250  48055294  \\\n",
       "HG03055_0         1         0         0         0         0         0   \n",
       "HG03485_1         1         0         0         0         0         0   \n",
       "NA20505_1         0         1         0         0         0         0   \n",
       "HG02256_1         0         0         1         0         0         0   \n",
       "HG01305_0         0         0         0         1         0         0   \n",
       "...             ...       ...       ...       ...       ...       ...   \n",
       "NA12829_0         0         0         0         0         0         0   \n",
       "NA18566_1         0         0         0         0         0         0   \n",
       "NA19235_1         0         0         0         0         0         0   \n",
       "HG03779_0         0         0         0         0         0         0   \n",
       "HG03792_1         0         0         0         0         0         0   \n",
       "\n",
       "           48055331  48055340  48055357  48055364  ...  48084704  48084720  \\\n",
       "HG03055_0         0         0         1         0  ...         0         0   \n",
       "HG03485_1         0         0         1         0  ...         0         0   \n",
       "NA20505_1         0         0         0         0  ...         0         0   \n",
       "HG02256_1         0         0         0         0  ...         0         0   \n",
       "HG01305_0         0         0         0         0  ...         0         0   \n",
       "...             ...       ...       ...       ...  ...       ...       ...   \n",
       "NA12829_0         0         0         0         0  ...         0         0   \n",
       "NA18566_1         0         0         0         0  ...         0         0   \n",
       "NA19235_1         0         0         0         0  ...         0         0   \n",
       "HG03779_0         0         0         0         0  ...         0         0   \n",
       "HG03792_1         0         0         0         0  ...         0         0   \n",
       "\n",
       "           48084731  48084747  48084770  48084820  48084822  48084863  \\\n",
       "HG03055_0         0         0         0         0         0         0   \n",
       "HG03485_1         0         0         0         0         0         0   \n",
       "NA20505_1         0         1         0         1         0         0   \n",
       "HG02256_1         0         1         0         0         0         0   \n",
       "HG01305_0         0         1         0         0         0         0   \n",
       "...             ...       ...       ...       ...       ...       ...   \n",
       "NA12829_0         0         1         0         0         0         0   \n",
       "NA18566_1         0         1         0         1         0         0   \n",
       "NA19235_1         0         1         0         1         0         0   \n",
       "HG03779_0         0         0         0         0         0         0   \n",
       "HG03792_1         0         0         0         0         0         0   \n",
       "\n",
       "           48084980  48084989  \n",
       "HG03055_0         0         0  \n",
       "HG03485_1         0         0  \n",
       "NA20505_1         0         1  \n",
       "HG02256_1         0         0  \n",
       "HG01305_0         0         0  \n",
       "...             ...       ...  \n",
       "NA12829_0         0         0  \n",
       "NA18566_1         0         1  \n",
       "NA19235_1         0         0  \n",
       "HG03779_0         0         0  \n",
       "HG03792_1         0         0  \n",
       "\n",
       "[5008 rows x 928 columns]"
      ]
     },
     "execution_count": 3,
     "metadata": {},
     "output_type": "execute_result"
    }
   ],
   "source": [
    "vcf"
   ]
  },
  {
   "cell_type": "code",
   "execution_count": 6,
   "metadata": {},
   "outputs": [
    {
     "name": "stdout",
     "output_type": "stream",
     "text": [
      "The autoreload extension is already loaded. To reload it, use:\n",
      "  %reload_ext autoreload\n"
     ]
    }
   ],
   "source": [
    "%load_ext autoreload\n",
    "%autoreload 2\n",
    "\n",
    "from SpanFinderNew import SpanFinder\n",
    "\n",
    "sf = SpanFinder(vcf, False)"
   ]
  },
  {
   "cell_type": "code",
   "execution_count": 8,
   "metadata": {},
   "outputs": [
    {
     "name": "stdout",
     "output_type": "stream",
     "text": [
      "checking position 1 of 928\n",
      "Done with length =38\n",
      "checking position 2 of 928\n",
      "Done with length =37\n",
      "LIMIT EXCEED \n"
     ]
    }
   ],
   "source": [
    "XX = sf.find_all_spans(10, 2)"
   ]
  },
  {
   "cell_type": "code",
   "execution_count": 10,
   "metadata": {},
   "outputs": [],
   "source": [
    "with open('your_file.txt', 'w') as f:\n",
    "    for item in XX:\n",
    "        f.write(\"%s\\n\" % item)"
   ]
  },
  {
   "cell_type": "code",
   "execution_count": 2,
   "metadata": {},
   "outputs": [
    {
     "name": "stdout",
     "output_type": "stream",
     "text": [
      "The autoreload extension is already loaded. To reload it, use:\n",
      "  %reload_ext autoreload\n",
      "Parsing file ./result/infer_time_from0_to47.txt\n"
     ]
    }
   ],
   "source": [
    "%load_ext autoreload\n",
    "%autoreload 2\n",
    "from utils import read_timed_mosaics\n",
    "timed_spans = read_timed_mosaics()"
   ]
  },
  {
   "cell_type": "code",
   "execution_count": 6,
   "metadata": {},
   "outputs": [],
   "source": [
    "\n",
    "\n"
   ]
  },
  {
   "cell_type": "code",
   "execution_count": 9,
   "metadata": {},
   "outputs": [
    {
     "name": "stdout",
     "output_type": "stream",
     "text": [
      "3494\n",
      "928\n"
     ]
    }
   ],
   "source": [
    "print(len(timed_spans))\n",
    "print(len(positions))"
   ]
  },
  {
   "cell_type": "code",
   "execution_count": 13,
   "metadata": {},
   "outputs": [],
   "source": []
  },
  {
   "cell_type": "code",
   "execution_count": 17,
   "metadata": {},
   "outputs": [
    {
     "data": {
      "text/plain": [
       "[48055094, 48055602, 11, 2290.724299627334, 26]"
      ]
     },
     "execution_count": 17,
     "metadata": {},
     "output_type": "execute_result"
    }
   ],
   "source": [
    "R[24]"
   ]
  },
  {
   "cell_type": "code",
   "execution_count": 82,
   "metadata": {},
   "outputs": [
    {
     "name": "stdout",
     "output_type": "stream",
     "text": [
      "Parsing file ./result/infer_time_from329_to376.txt\n",
      "Parsing file ./result/infer_time_from470_to517.txt\n",
      "Parsing file ./result/infer_time_from188_to235.txt\n",
      "Parsing file ./result/infer_time_from94_to141.txt\n",
      "Parsing file ./result/infer_time_from799_to846.txt\n",
      "Parsing file ./result/infer_time_from705_to752.txt\n",
      "Parsing file ./result/infer_time_from658_to705.txt\n",
      "Parsing file ./result/infer_time_from376_to423.txt\n",
      "Parsing file ./result/infer_time_from517_to564.txt\n",
      "Parsing file ./result/infer_time_from611_to658.txt\n",
      "Parsing file ./result/infer_time_from893_to940.txt\n",
      "Parsing file ./result/infer_time_from282_to329.txt\n",
      "Parsing file ./result/infer_time_from564_to611.txt\n",
      "Parsing file ./result/infer_time_from423_to470.txt\n",
      "Parsing file ./result/infer_time_from235_to282.txt\n",
      "Parsing file ./result/infer_time_from752_to799.txt\n",
      "Parsing file ./result/infer_time_from47_to94.txt\n",
      "Parsing file ./result/infer_time_from846_to893.txt\n",
      "Parsing file ./result/infer_time_from141_to188.txt\n",
      "Parsing file ./result/infer_time_from0_to47.txt\n"
     ]
    }
   ],
   "source": [
    "\n",
    "from utils import read_full_timed_mosaics\n",
    "\n",
    "spans = read_full_timed_mosaics(None)\n",
    "\n",
    "from BlockSelector import BlockSelector\n",
    "\n"
   ]
  },
  {
   "cell_type": "code",
   "execution_count": 107,
   "metadata": {},
   "outputs": [
    {
     "name": "stdout",
     "output_type": "stream",
     "text": [
      "The autoreload extension is already loaded. To reload it, use:\n",
      "  %reload_ext autoreload\n",
      "checking M= 10\n",
      "recomb = 0, removal=698, haplos = 14\n",
      "(698, 14)\n",
      "checking M= 20\n",
      "recomb = 0, removal=698, haplos = 14\n",
      "(698, 14)\n",
      "checking M= 30\n",
      "recomb = 0, removal=637, haplos = 14\n",
      "(637, 14)\n",
      "checking M= 40\n",
      "recomb = 0, removal=603, haplos = 14\n",
      "(603, 14)\n",
      "checking M= 50\n",
      "recomb = 0, removal=603, haplos = 14\n",
      "(603, 14)\n",
      "checking M= 60\n",
      "recomb = 0, removal=602, haplos = 14\n",
      "(602, 14)\n",
      "checking M= 70\n",
      "recomb = 0, removal=602, haplos = 14\n",
      "(602, 14)\n",
      "checking M= 80\n",
      "recomb = 0, removal=601, haplos = 14\n",
      "(601, 14)\n",
      "checking M= 90\n",
      "recomb = 0, removal=555, haplos = 15\n",
      "(555, 15)\n"
     ]
    }
   ],
   "source": [
    "%load_ext autoreload\n",
    "%autoreload 2\n",
    "# m=0.02\n",
    "for m in range(1, 10, 1):\n",
    "    m= m*10\n",
    "    print(f'checking M= {m}')\n",
    "    bs = BlockSelector(spans, 2504*2)\n",
    "    bs.find_best_match(m)\n",
    "\n",
    "    result = bs.get_best_match_haplos()\n",
    "    stats = bs.get_statistics()\n",
    "    print(stats)\n",
    "    with open(f'./result/hotspots_{m}.txt', 'w') as f:\n",
    "        f.write(\"%s\\n\" % result)"
   ]
  },
  {
   "cell_type": "code",
   "execution_count": 28,
   "metadata": {},
   "outputs": [
    {
     "data": {
      "text/plain": [
       "[48055094, 48055095, 0, 30337.23280080877, 2]"
      ]
     },
     "execution_count": 28,
     "metadata": {},
     "output_type": "execute_result"
    }
   ],
   "source": [
    "spans[0]"
   ]
  },
  {
   "cell_type": "code",
   "execution_count": 39,
   "metadata": {},
   "outputs": [
    {
     "data": {
      "text/plain": [
       "22026.465794806718"
      ]
     },
     "execution_count": 39,
     "metadata": {},
     "output_type": "execute_result"
    }
   ],
   "source": [
    "math.exp(10)"
   ]
  },
  {
   "cell_type": "code",
   "execution_count": 50,
   "metadata": {},
   "outputs": [
    {
     "name": "stdout",
     "output_type": "stream",
     "text": [
      "450.2389857034828\n",
      "3.438009154317136e+195\n"
     ]
    }
   ],
   "source": [
    "K=5\n",
    "Rho=0.1\n",
    "T_est=1800.9559428139312\n",
    "y = (1/2)*K*Rho*T_est\n",
    "print(y)\n",
    "z = math.exp(y)\n",
    "print(z)\n"
   ]
  },
  {
   "cell_type": "code",
   "execution_count": 45,
   "metadata": {},
   "outputs": [
    {
     "data": {
      "text/plain": [
       "1.4893842007818383e+78"
      ]
     },
     "execution_count": 45,
     "metadata": {},
     "output_type": "execute_result"
    }
   ],
   "source": []
  },
  {
   "cell_type": "code",
   "execution_count": 57,
   "metadata": {},
   "outputs": [
    {
     "data": {
      "text/plain": [
       "34990.41167414978"
      ]
     },
     "execution_count": 57,
     "metadata": {},
     "output_type": "execute_result"
    }
   ],
   "source": [
    "times = list(zip(*spans))[3]\n",
    "max(times)"
   ]
  },
  {
   "cell_type": "code",
   "execution_count": 58,
   "metadata": {},
   "outputs": [
    {
     "data": {
      "text/plain": [
       "689.2433648934496"
      ]
     },
     "execution_count": 58,
     "metadata": {},
     "output_type": "execute_result"
    }
   ],
   "source": [
    " min(times)"
   ]
  },
  {
   "cell_type": "code",
   "execution_count": 59,
   "metadata": {},
   "outputs": [],
   "source": [
    "import statistics\n"
   ]
  },
  {
   "cell_type": "code",
   "execution_count": 62,
   "metadata": {},
   "outputs": [
    {
     "data": {
      "text/plain": [
       "1816.2895669186846"
      ]
     },
     "execution_count": 62,
     "metadata": {},
     "output_type": "execute_result"
    }
   ],
   "source": [
    "x = statistics.mean(times)\n",
    "x"
   ]
  },
  {
   "cell_type": "code",
   "execution_count": 63,
   "metadata": {},
   "outputs": [
    {
     "data": {
      "text/plain": [
       "1111.2680353945343"
      ]
     },
     "execution_count": 63,
     "metadata": {},
     "output_type": "execute_result"
    }
   ],
   "source": [
    "statistics.median(times)"
   ]
  },
  {
   "cell_type": "code",
   "execution_count": 64,
   "metadata": {},
   "outputs": [
    {
     "name": "stdout",
     "output_type": "stream",
     "text": [
      "1816.289566918686\n"
     ]
    }
   ],
   "source": [
    "print(sum(times)/len(times))"
   ]
  },
  {
   "cell_type": "code",
   "execution_count": 70,
   "metadata": {},
   "outputs": [
    {
     "name": "stdout",
     "output_type": "stream",
     "text": [
      "H_SCORE [K=12, Rho=0.002, T_est=2228.4561149218216, L=281, Removal = 3] = 410841519214.29175\n"
     ]
    },
    {
     "data": {
      "text/plain": [
       "410841519214.29175"
      ]
     },
     "execution_count": 70,
     "metadata": {},
     "output_type": "execute_result"
    }
   ],
   "source": [
    "from BlockSelector import find_haplo_score\n",
    "\n",
    "find_haplo_score(spans[10], 0.002)"
   ]
  },
  {
   "cell_type": "code",
   "execution_count": 66,
   "metadata": {},
   "outputs": [
    {
     "data": {
      "text/plain": [
       "[48055094, 48055374, 3, 2228.4561149218216, 12]"
      ]
     },
     "execution_count": 66,
     "metadata": {},
     "output_type": "execute_result"
    }
   ],
   "source": [
    "spans[10]"
   ]
  },
  {
   "cell_type": "code",
   "execution_count": 84,
   "metadata": {},
   "outputs": [],
   "source": [
    "from BlockSelector import find_haplo_score "
   ]
  },
  {
   "cell_type": "code",
   "execution_count": 105,
   "metadata": {},
   "outputs": [
    {
     "data": {
      "text/plain": [
       "0.31616704009689756"
      ]
     },
     "execution_count": 105,
     "metadata": {},
     "output_type": "execute_result"
    }
   ],
   "source": [
    "find_haplo_score(spans[20], 0.1)"
   ]
  },
  {
   "cell_type": "code",
   "execution_count": 104,
   "metadata": {},
   "outputs": [
    {
     "data": {
      "text/plain": [
       "1.3674338342279372e-07"
      ]
     },
     "execution_count": 104,
     "metadata": {},
     "output_type": "execute_result"
    }
   ],
   "source": [
    "find_haplo_score(spans[120], 0.1)"
   ]
  },
  {
   "cell_type": "code",
   "execution_count": 92,
   "metadata": {},
   "outputs": [
    {
     "data": {
      "text/plain": [
       "[48065983, 48069615, 26, 2591.0098002117566, 122]"
      ]
     },
     "execution_count": 92,
     "metadata": {},
     "output_type": "execute_result"
    }
   ],
   "source": [
    "spans[120]"
   ]
  },
  {
   "cell_type": "code",
   "execution_count": 106,
   "metadata": {},
   "outputs": [
    {
     "data": {
      "text/plain": [
       "[48065983, 48066677, 1, 1046.8041792341735, 22]"
      ]
     },
     "execution_count": 106,
     "metadata": {},
     "output_type": "execute_result"
    }
   ],
   "source": [
    "spans[20]"
   ]
  },
  {
   "cell_type": "code",
   "execution_count": 93,
   "metadata": {},
   "outputs": [
    {
     "data": {
      "text/plain": [
       "694"
      ]
     },
     "execution_count": 93,
     "metadata": {},
     "output_type": "execute_result"
    }
   ],
   "source": [
    "spans[20][1]-spans[20][0]"
   ]
  },
  {
   "cell_type": "code",
   "execution_count": 94,
   "metadata": {},
   "outputs": [
    {
     "data": {
      "text/plain": [
       "3632"
      ]
     },
     "execution_count": 94,
     "metadata": {},
     "output_type": "execute_result"
    }
   ],
   "source": [
    "spans[120][1]-spans[120][0]"
   ]
  },
  {
   "cell_type": "code",
   "execution_count": 1,
   "metadata": {},
   "outputs": [
    {
     "ename": "NameError",
     "evalue": "name 'muts' is not defined",
     "output_type": "error",
     "traceback": [
      "\u001b[0;31m---------------------------------------------------------------------------\u001b[0m",
      "\u001b[0;31mNameError\u001b[0m                                 Traceback (most recent call last)",
      "\u001b[0;32m<ipython-input-1-137e2f982b63>\u001b[0m in \u001b[0;36m<module>\u001b[0;34m\u001b[0m\n\u001b[0;32m----> 1\u001b[0;31m \u001b[0mmuts\u001b[0m\u001b[0;34m\u001b[0m\u001b[0;34m\u001b[0m\u001b[0m\n\u001b[0m",
      "\u001b[0;31mNameError\u001b[0m: name 'muts' is not defined"
     ]
    }
   ],
   "source": [
    "muts"
   ]
  },
  {
   "cell_type": "code",
   "execution_count": null,
   "metadata": {},
   "outputs": [],
   "source": []
  }
 ],
 "metadata": {
  "interpreter": {
   "hash": "aee8b7b246df8f9039afb4144a1f6fd8d2ca17a180786b69acc140d282b71a49"
  },
  "kernelspec": {
   "display_name": "Python 3",
   "language": "python",
   "name": "python3"
  },
  "language_info": {
   "codemirror_mode": {
    "name": "ipython",
    "version": 3
   },
   "file_extension": ".py",
   "mimetype": "text/x-python",
   "name": "python",
   "nbconvert_exporter": "python",
   "pygments_lexer": "ipython3",
   "version": "3.6.9"
  }
 },
 "nbformat": 4,
 "nbformat_minor": 2
}
