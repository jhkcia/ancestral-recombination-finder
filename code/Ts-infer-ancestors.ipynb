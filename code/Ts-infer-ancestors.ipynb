{
 "cells": [
  {
   "cell_type": "code",
   "execution_count": 16,
   "metadata": {},
   "outputs": [
    {
     "name": "stdout",
     "output_type": "stream",
     "text": [
      "The autoreload extension is already loaded. To reload it, use:\n",
      "  %reload_ext autoreload\n",
      "0, 84\n",
      "checking position 1 of 21\n",
      "Done with length =20\n",
      "checking position 2 of 21\n",
      "Done with length =12\n",
      "checking position 3 of 21\n",
      "Done with length =11\n",
      "checking position 4 of 21\n",
      "Done with length =17\n",
      "checking position 5 of 21\n",
      "Done with length =16\n",
      "checking position 6 of 21\n",
      "Done with length =15\n",
      "checking position 7 of 21\n",
      "Done with length =14\n",
      "checking position 8 of 21\n",
      "Done with length =13\n",
      "checking position 9 of 21\n",
      "Done with length =12\n",
      "checking position 10 of 21\n",
      "Done with length =11\n",
      "checking position 11 of 21\n",
      "Done with length =10\n",
      "checking position 12 of 21\n",
      "Done with length =9\n",
      "checking position 13 of 21\n",
      "Done with length =8\n",
      "checking position 14 of 21\n",
      "Done with length =7\n",
      "checking position 15 of 21\n",
      "Done with length =6\n",
      "checking position 16 of 21\n",
      "Done with length =5\n",
      "checking position 17 of 21\n",
      "Done with length =4\n",
      "checking position 18 of 21\n",
      "Done with length =3\n",
      "checking position 19 of 21\n",
      "Done with length =2\n",
      "checking position 20 of 21\n",
      "Done with length =1\n",
      "checking position 21 of 21\n",
      "Done with length =0\n"
     ]
    }
   ],
   "source": [
    "%load_ext autoreload\n",
    "%autoreload 2\n",
    "\n",
    "maxRemovePercent = 40\n",
    "minSnpCount =1\n",
    "vcf_path = './simulation/simulate.vcf'\n",
    "\n",
    "from run_span_detection import find_for_items\n",
    "\n",
    "find_for_items(maxRemovePercent,minSnpCount, None, None, vcf_path)"
   ]
  },
  {
   "cell_type": "code",
   "execution_count": null,
   "metadata": {},
   "outputs": [],
   "source": []
  },
  {
   "cell_type": "code",
   "execution_count": 22,
   "metadata": {},
   "outputs": [
    {
     "name": "stdout",
     "output_type": "stream",
     "text": [
      "Parsing file ./result/from0_to21.txt\n",
      "[[1552, 1681.0, []], [1552, 1928.5, []], [1552, 3334.0, []], [1552, 5677.0, ['tsk_3\\n_0']], [1552, 7963.0, ['tsk_0_1', 'tsk_3\\n_0']], [1552, 9217.0, ['tsk_0_1', 'tsk_3\\n_0']], [1552, 9405.5, ['tsk_0_1', 'tsk_3\\n_0']], [1552, 9516.5, ['tsk_0_1', 'tsk_1_0', 'tsk_3\\n_0']], [1552, 9601.0, ['tsk_0_1', 'tsk_1_0', 'tsk_3\\n_0']], [1552, 11783.5, ['tsk_0_1', 'tsk_1_0', 'tsk_3\\n_0']], [1552, 14033.0, ['tsk_0_1', 'tsk_1_0', 'tsk_3\\n_0']], [1552, 14437.0, ['tsk_0_1', 'tsk_1_0', 'tsk_3\\n_0']], [1552, 15374.5, ['tsk_0_1', 'tsk_1_0', 'tsk_3\\n_0']], [1552, 16573.5, ['tsk_0_1', 'tsk_1_0', 'tsk_3\\n_0']], [1552, 17439.5, ['tsk_0_1', 'tsk_1_0', 'tsk_3\\n_0']], [1552, 17823.5, ['tsk_0_1', 'tsk_1_0', 'tsk_3\\n_0']], [1552, 18254.5, ['tsk_0_1', 'tsk_1_0', 'tsk_3\\n_0']], [1552, 18829.5, ['tsk_0_1', 'tsk_1_0', 'tsk_3\\n_0']], [1552, 19209.0, ['tsk_0_1', 'tsk_1_0', 'tsk_3\\n_0']], [1552, 19543.0, ['tsk_0_1', 'tsk_1_0', 'tsk_3\\n_0']], [1552, 19820, ['tsk_0_1', 'tsk_1_0', 'tsk_3\\n_0']], [1681.0, 1928.5, []], [1681.0, 3334.0, []], [1681.0, 5677.0, ['tsk_3\\n_0']], [1681.0, 7963.0, ['tsk_0_1', 'tsk_3\\n_0']], [1681.0, 9217.0, ['tsk_0_1', 'tsk_3\\n_0']], [1681.0, 9405.5, ['tsk_0_1', 'tsk_3\\n_0']], [1681.0, 9516.5, ['tsk_0_1', 'tsk_2_1', 'tsk_3\\n_0']], [1681.0, 9601.0, ['tsk_0_1', 'tsk_2_1', 'tsk_3\\n_0']], [1681.0, 11783.5, ['tsk_0_1', 'tsk_2_1', 'tsk_3\\n_0']], [1681.0, 14033.0, ['tsk_0_1', 'tsk_2_1', 'tsk_3\\n_0']], [1681.0, 14437.0, ['tsk_0_1', 'tsk_2_1', 'tsk_3\\n_0']], [1681.0, 15374.5, ['tsk_0_1', 'tsk_2_1', 'tsk_3\\n_0']], [1681.0, 16573.5, ['tsk_0_1', 'tsk_2_1', 'tsk_3\\n_0']], [1928.5, 3334.0, []], [1928.5, 5677.0, ['tsk_3\\n_0']], [1928.5, 7963.0, ['tsk_3\\n_0']], [1928.5, 9217.0, ['tsk_3\\n_0']], [1928.5, 9405.5, ['tsk_3\\n_0']], [1928.5, 9516.5, ['tsk_2_1', 'tsk_1_0', 'tsk_3\\n_0']], [1928.5, 9601.0, ['tsk_2_1', 'tsk_1_0', 'tsk_3\\n_0']], [1928.5, 11783.5, ['tsk_2_1', 'tsk_1_0', 'tsk_3\\n_0']], [1928.5, 14033.0, ['tsk_2_1', 'tsk_1_0', 'tsk_3\\n_0']], [1928.5, 14437.0, ['tsk_2_1', 'tsk_1_0', 'tsk_3\\n_0']], [1928.5, 15374.5, ['tsk_2_1', 'tsk_1_0', 'tsk_3\\n_0']], [1928.5, 16573.5, ['tsk_2_1', 'tsk_1_0', 'tsk_3\\n_0']], [3334.0, 5677.0, []], [3334.0, 7963.0, ['tsk_1_0']], [3334.0, 9217.0, ['tsk_1_0']], [3334.0, 9405.5, ['tsk_1_0']], [3334.0, 9516.5, ['tsk_1_0', 'tsk_3\\n_0']], [3334.0, 9601.0, ['tsk_1_0', 'tsk_3\\n_0']], [3334.0, 11783.5, ['tsk_1_0', 'tsk_3\\n_0']], [3334.0, 14033.0, ['tsk_1_0', 'tsk_3\\n_0']], [3334.0, 14437.0, ['tsk_1_0', 'tsk_3\\n_0']], [3334.0, 15374.5, ['tsk_1_0', 'tsk_3\\n_0']], [3334.0, 16573.5, ['tsk_1_0', 'tsk_3\\n_0']], [3334.0, 17439.5, ['tsk_1_0', 'tsk_3\\n_0', 'tsk_3\\n_1']], [3334.0, 17823.5, ['tsk_1_0', 'tsk_3\\n_0', 'tsk_3\\n_1']], [3334.0, 18254.5, ['tsk_1_0', 'tsk_3\\n_0', 'tsk_3\\n_1']], [3334.0, 18829.5, ['tsk_1_0', 'tsk_3\\n_0', 'tsk_3\\n_1']], [3334.0, 19209.0, ['tsk_1_0', 'tsk_3\\n_0', 'tsk_3\\n_1']], [3334.0, 19543.0, ['tsk_1_0', 'tsk_3\\n_0', 'tsk_3\\n_1']], [3334.0, 19820, ['tsk_1_0', 'tsk_3\\n_0', 'tsk_3\\n_1']], [5677.0, 7963.0, []], [5677.0, 9217.0, ['tsk_0_1']], [5677.0, 9405.5, ['tsk_0_1']], [5677.0, 9516.5, ['tsk_0_1']], [5677.0, 9601.0, ['tsk_0_1']], [5677.0, 11783.5, ['tsk_0_1']], [5677.0, 14033.0, ['tsk_0_1']], [5677.0, 14437.0, ['tsk_0_1']], [5677.0, 15374.5, ['tsk_0_1']], [5677.0, 16573.5, ['tsk_0_1']], [5677.0, 17439.5, ['tsk_0_1', 'tsk_3\\n_1']], [5677.0, 17823.5, ['tsk_0_1', 'tsk_3\\n_1']], [5677.0, 18254.5, ['tsk_0_1', 'tsk_3\\n_1']], [5677.0, 18829.5, ['tsk_0_1', 'tsk_3\\n_1']], [5677.0, 19209.0, ['tsk_0_1', 'tsk_3\\n_1']], [5677.0, 19543.0, ['tsk_0_1', 'tsk_3\\n_1']], [5677.0, 19820, ['tsk_0_1', 'tsk_3\\n_1']], [7963.0, 9217.0, []], [7963.0, 9405.5, []], [7963.0, 9516.5, []], [7963.0, 9601.0, []], [7963.0, 11783.5, []], [7963.0, 14033.0, []], [7963.0, 14437.0, []], [7963.0, 15374.5, []], [7963.0, 16573.5, []], [7963.0, 17439.5, ['tsk_0_1', 'tsk_1_0', 'tsk_3\\n_0']], [7963.0, 17823.5, ['tsk_0_1', 'tsk_1_0', 'tsk_3\\n_0']], [7963.0, 18254.5, ['tsk_0_1', 'tsk_1_0', 'tsk_3\\n_0']], [7963.0, 18829.5, ['tsk_0_1', 'tsk_1_0', 'tsk_3\\n_0']], [7963.0, 19209.0, ['tsk_0_1', 'tsk_1_0', 'tsk_3\\n_0']], [7963.0, 19543.0, ['tsk_0_1', 'tsk_1_0', 'tsk_3\\n_0']], [7963.0, 19820, ['tsk_0_1', 'tsk_1_0', 'tsk_3\\n_0']], [9217.0, 9405.5, []], [9217.0, 9516.5, []], [9217.0, 9601.0, []], [9217.0, 11783.5, []], [9217.0, 14033.0, []], [9217.0, 14437.0, []], [9217.0, 15374.5, []], [9217.0, 16573.5, []], [9217.0, 17439.5, ['tsk_0_1', 'tsk_1_0', 'tsk_3\\n_0']], [9217.0, 17823.5, ['tsk_0_1', 'tsk_1_0', 'tsk_3\\n_0']], [9217.0, 18254.5, ['tsk_0_1', 'tsk_1_0', 'tsk_3\\n_0']], [9217.0, 18829.5, ['tsk_0_1', 'tsk_1_0', 'tsk_3\\n_0']], [9217.0, 19209.0, ['tsk_0_1', 'tsk_1_0', 'tsk_3\\n_0']], [9217.0, 19543.0, ['tsk_0_1', 'tsk_1_0', 'tsk_3\\n_0']], [9217.0, 19820, ['tsk_0_1', 'tsk_1_0', 'tsk_3\\n_0']], [9405.5, 9516.5, []], [9405.5, 9601.0, []], [9405.5, 11783.5, []], [9405.5, 14033.0, []], [9405.5, 14437.0, []], [9405.5, 15374.5, []], [9405.5, 16573.5, []], [9405.5, 17439.5, ['tsk_0_1', 'tsk_3\\n_1']], [9405.5, 17823.5, ['tsk_0_1', 'tsk_3\\n_1']], [9405.5, 18254.5, ['tsk_0_1', 'tsk_3\\n_1']], [9405.5, 18829.5, ['tsk_0_1', 'tsk_3\\n_1']], [9405.5, 19209.0, ['tsk_0_1', 'tsk_3\\n_1']], [9405.5, 19543.0, ['tsk_0_1', 'tsk_3\\n_1']], [9405.5, 19820, ['tsk_0_1', 'tsk_3\\n_1']], [9516.5, 9601.0, []], [9516.5, 11783.5, []], [9516.5, 14033.0, []], [9516.5, 14437.0, []], [9516.5, 15374.5, []], [9516.5, 16573.5, []], [9516.5, 17439.5, ['tsk_3\\n_0', 'tsk_3\\n_1']], [9516.5, 17823.5, ['tsk_3\\n_0', 'tsk_3\\n_1']], [9516.5, 18254.5, ['tsk_3\\n_0', 'tsk_3\\n_1']], [9516.5, 18829.5, ['tsk_3\\n_0', 'tsk_3\\n_1']], [9516.5, 19209.0, ['tsk_3\\n_0', 'tsk_3\\n_1']], [9516.5, 19543.0, ['tsk_3\\n_0', 'tsk_3\\n_1']], [9516.5, 19820, ['tsk_3\\n_0', 'tsk_3\\n_1']], [9601.0, 11783.5, []], [9601.0, 14033.0, []], [9601.0, 14437.0, []], [9601.0, 15374.5, []], [9601.0, 16573.5, []], [9601.0, 17439.5, ['tsk_3\\n_0', 'tsk_3\\n_1']], [9601.0, 17823.5, ['tsk_3\\n_0', 'tsk_3\\n_1']], [9601.0, 18254.5, ['tsk_3\\n_0', 'tsk_3\\n_1']], [9601.0, 18829.5, ['tsk_3\\n_0', 'tsk_3\\n_1']], [9601.0, 19209.0, ['tsk_3\\n_0', 'tsk_3\\n_1']], [9601.0, 19543.0, ['tsk_3\\n_0', 'tsk_3\\n_1']], [9601.0, 19820, ['tsk_3\\n_0', 'tsk_3\\n_1']], [11783.5, 14033.0, []], [11783.5, 14437.0, []], [11783.5, 15374.5, []], [11783.5, 16573.5, []], [11783.5, 17439.5, ['tsk_3\\n_1']], [11783.5, 17823.5, ['tsk_3\\n_1']], [11783.5, 18254.5, ['tsk_3\\n_1']], [11783.5, 18829.5, ['tsk_3\\n_1']], [11783.5, 19209.0, ['tsk_3\\n_1']], [11783.5, 19543.0, ['tsk_3\\n_1']], [11783.5, 19820, ['tsk_3\\n_1']], [14033.0, 14437.0, []], [14033.0, 15374.5, []], [14033.0, 16573.5, []], [14033.0, 17439.5, []], [14033.0, 17823.5, []], [14033.0, 18254.5, []], [14033.0, 18829.5, []], [14033.0, 19209.0, []], [14033.0, 19543.0, []], [14033.0, 19820, []], [14437.0, 15374.5, []], [14437.0, 16573.5, []], [14437.0, 17439.5, []], [14437.0, 17823.5, []], [14437.0, 18254.5, []], [14437.0, 18829.5, []], [14437.0, 19209.0, []], [14437.0, 19543.0, []], [14437.0, 19820, []], [15374.5, 16573.5, []], [15374.5, 17439.5, []], [15374.5, 17823.5, []], [15374.5, 18254.5, []], [15374.5, 18829.5, []], [15374.5, 19209.0, []], [15374.5, 19543.0, []], [15374.5, 19820, []], [16573.5, 17439.5, []], [16573.5, 17823.5, []], [16573.5, 18254.5, []], [16573.5, 18829.5, []], [16573.5, 19209.0, []], [16573.5, 19543.0, []], [16573.5, 19820, []], [17439.5, 17823.5, []], [17439.5, 18254.5, []], [17439.5, 18829.5, []], [17439.5, 19209.0, []], [17439.5, 19543.0, []], [17439.5, 19820, []], [17823.5, 18254.5, []], [17823.5, 18829.5, []], [17823.5, 19209.0, []], [17823.5, 19543.0, []], [17823.5, 19820, []], [18254.5, 18829.5, []], [18254.5, 19209.0, []], [18254.5, 19543.0, []], [18254.5, 19820, []], [18829.5, 19209.0, []], [18829.5, 19543.0, []], [18829.5, 19820, []], [19209.0, 19543.0, []], [19209.0, 19820, []], [19543.0, 19820, []]]\n",
      "inferring 1 of 217\n"
     ]
    },
    {
     "name": "stderr",
     "output_type": "stream",
     "text": [
      "/usr/local/lib/python3.9/site-packages/tsdate/util.py:138: RuntimeWarning: Different number of sites after preprocessing. Try using **{'filter_sites:' False} to avoid this\n",
      "  warnings.warn(\n"
     ]
    },
    {
     "name": "stdout",
     "output_type": "stream",
     "text": [
      "inferring 51 of 217\n",
      "inferring 101 of 217\n",
      "inferring 151 of 217\n",
      "inferring 201 of 217\n"
     ]
    }
   ],
   "source": [
    "from run_generate_times import infer_times, get_all_haplo_input_files\n",
    "\n",
    "dirs = get_all_haplo_input_files()\n",
    "for path in dirs:\n",
    "    infer_times(path, minSnpCount, vcf_path)"
   ]
  },
  {
   "cell_type": "code",
   "execution_count": 25,
   "metadata": {},
   "outputs": [
    {
     "ename": "NameError",
     "evalue": "name 'vcf_file' is not defined",
     "output_type": "error",
     "traceback": [
      "\u001b[0;31m---------------------------------------------------------------------------\u001b[0m",
      "\u001b[0;31mNameError\u001b[0m                                 Traceback (most recent call last)",
      "\u001b[0;32m<ipython-input-25-a685b8553575>\u001b[0m in \u001b[0;36m<module>\u001b[0;34m\u001b[0m\n\u001b[1;32m      1\u001b[0m \u001b[0;32mfrom\u001b[0m \u001b[0mutils\u001b[0m \u001b[0;32mimport\u001b[0m \u001b[0mread_full_timed_mosaics\u001b[0m\u001b[0;34m\u001b[0m\u001b[0;34m\u001b[0m\u001b[0m\n\u001b[1;32m      2\u001b[0m \u001b[0;34m\u001b[0m\u001b[0m\n\u001b[0;32m----> 3\u001b[0;31m \u001b[0mspans\u001b[0m \u001b[0;34m=\u001b[0m \u001b[0mread_full_timed_mosaics\u001b[0m\u001b[0;34m(\u001b[0m\u001b[0mminSnpCount\u001b[0m\u001b[0;34m,\u001b[0m \u001b[0mvcf_file\u001b[0m\u001b[0;34m,\u001b[0m \u001b[0;32mNone\u001b[0m\u001b[0;34m)\u001b[0m\u001b[0;34m\u001b[0m\u001b[0;34m\u001b[0m\u001b[0m\n\u001b[0m",
      "\u001b[0;31mNameError\u001b[0m: name 'vcf_file' is not defined"
     ]
    }
   ],
   "source": [
    "\n",
    "from utils import read_full_timed_mosaics\n",
    "\n",
    "spans = read_full_timed_mosaics(minSnpCount, vcf_file, None)"
   ]
  },
  {
   "cell_type": "code",
   "execution_count": null,
   "metadata": {},
   "outputs": [],
   "source": []
  }
 ],
 "metadata": {
  "kernelspec": {
   "display_name": "Python 3.9.9 64-bit",
   "language": "python",
   "name": "python3"
  },
  "language_info": {
   "codemirror_mode": {
    "name": "ipython",
    "version": 3
   },
   "file_extension": ".py",
   "mimetype": "text/x-python",
   "name": "python",
   "nbconvert_exporter": "python",
   "pygments_lexer": "ipython3",
   "version": "3.9.9"
  },
  "orig_nbformat": 4,
  "vscode": {
   "interpreter": {
    "hash": "aee8b7b246df8f9039afb4144a1f6fd8d2ca17a180786b69acc140d282b71a49"
   }
  }
 },
 "nbformat": 4,
 "nbformat_minor": 2
}
