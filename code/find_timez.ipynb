{
 "cells": [
  {
   "cell_type": "code",
   "execution_count": 2,
   "metadata": {},
   "outputs": [
    {
     "name": "stdout",
     "output_type": "stream",
     "text": [
      "The autoreload extension is already loaded. To reload it, use:\n",
      "  %reload_ext autoreload\n"
     ]
    }
   ],
   "source": [
    "\n",
    "%load_ext autoreload\n",
    "%autoreload 2\n",
    "# importing libraries\n",
    "import matplotlib.pyplot as plt\n",
    "import numpy as np\n",
    "import math"
   ]
  },
  {
   "cell_type": "code",
   "execution_count": 3,
   "metadata": {},
   "outputs": [],
   "source": [
    "from run_generate_times  import read_spans , get_snp_dfs , find_span_mosaic, find_centers\n",
    "from TimeFinder import TimeFinder\n",
    "\n",
    "path = './result/from0_to47.txt'\n"
   ]
  },
  {
   "cell_type": "code",
   "execution_count": 4,
   "metadata": {},
   "outputs": [
    {
     "name": "stdout",
     "output_type": "stream",
     "text": [
      "Parsing file ./result/from0_to47.txt\n"
     ]
    }
   ],
   "source": [
    "spans = read_spans(path)\n",
    "mutation_df = get_snp_dfs()\n",
    "\n",
    "population = [p for p in mutation_df['sample'].unique()]\n",
    "muts = [p for p in mutation_df['position'].unique()]\n",
    "\n",
    "#vcf  --from-bp 48055079 --to-bp 48085036 \n",
    "\n",
    "centers = find_centers(muts, 48055079, 48085036 )\n",
    "mosaics = []\n",
    "for s in spans:\n",
    "    S, E = find_span_mosaic(centers, s[0], s[1])\n",
    "    mosaics.append([S, E, s[2]])\n",
    "\n"
   ]
  },
  {
   "cell_type": "code",
   "execution_count": 5,
   "metadata": {},
   "outputs": [
    {
     "name": "stdout",
     "output_type": "stream",
     "text": [
      "The autoreload extension is already loaded. To reload it, use:\n",
      "  %reload_ext autoreload\n"
     ]
    }
   ],
   "source": [
    "\n",
    "%load_ext autoreload\n",
    "%autoreload 2\n",
    "tf = TimeFinder(mosaics, population, mutation_df)\n",
    "\n",
    "# times = tf.find_all_times()\n",
    "# file_name = f\"infer_time_{path.split('/')[-1]}\"\n",
    "# with open(f'./result/{file_name}', 'w') as f:\n",
    "#     f.write(\"%s\\n\" % times)"
   ]
  },
  {
   "cell_type": "code",
   "execution_count": 6,
   "metadata": {},
   "outputs": [
    {
     "name": "stderr",
     "output_type": "stream",
     "text": [
      "/usr/local/lib/python3.9/site-packages/tsdate/util.py:138: RuntimeWarning: Different number of sites after preprocessing. Try using **{'filter_sites:' False} to avoid this\n",
      "  warnings.warn(\n"
     ]
    },
    {
     "data": {
      "text/plain": [
       "7903.40217285556"
      ]
     },
     "execution_count": 6,
     "metadata": {},
     "output_type": "execute_result"
    }
   ],
   "source": [
    "h = mosaics[0]\n",
    "tf.find_mrca_time(h[0], h[1], h[2])"
   ]
  },
  {
   "cell_type": "code",
   "execution_count": 7,
   "metadata": {},
   "outputs": [],
   "source": [
    "mn = 999999999999, None\n",
    "mx = 0, None\n",
    "for h in mosaics:\n",
    "    size = h[1]-h[0]\n",
    "    if size< mn[0]:\n",
    "        mn = size, h\n",
    "    if size> mx[0]:\n",
    "        mx = size, h\n"
   ]
  },
  {
   "cell_type": "code",
   "execution_count": 8,
   "metadata": {},
   "outputs": [
    {
     "name": "stdout",
     "output_type": "stream",
     "text": [
      "for small mosaic for mutation rate 0.01, time is 0.4464316428327859\n",
      "for small mosaic for mutation rate 0.001, time is 3.5831889820399594\n",
      "for small mosaic for mutation rate 0.0001, time is 28.014982186940024\n",
      "for small mosaic for mutation rate 1e-05, time is 200.00928279903164\n",
      "for small mosaic for mutation rate 1e-06, time is 1322.8173738950793\n",
      "for small mosaic for mutation rate 1e-07, time is 6903.21652546597\n",
      "for small mosaic for mutation rate 1e-08, time is 22422.46889150293\n",
      "for small mosaic for mutation rate 1e-09, time is 35985.006530348976\n"
     ]
    }
   ],
   "source": [
    "x = [1e-2, 1e-3, 1e-4, 1e-5, 1e-6, 1e-7, 1e-8, 1e-9]\n",
    "y1 = []\n",
    "y2 = []\n",
    "for rate in x:\n",
    "    tm = tf.find_mrca_time(mn[1][0], mn[1][1], mn[1][2], rate)\n",
    "    print(f'for small mosaic for mutation rate {rate}, time is {tm}')\n",
    "    y1.append(tm)\n",
    "    tm = tf.find_mrca_time(mx[1][0], mx[1][1], mx[1][2], rate)\n",
    "    y2.append(tm)\n"
   ]
  },
  {
   "cell_type": "code",
   "execution_count": 10,
   "metadata": {},
   "outputs": [
    {
     "data": {
      "image/png": "[encoded data removed]",
      "text/plain": [
       "<Figure size 432x288 with 1 Axes>"
      ]
     },
     "metadata": {
      "needs_background": "light"
     },
     "output_type": "display_data"
    }
   ],
   "source": [
    "\n",
    "# importing package\n",
    "import matplotlib.pyplot as plt\n",
    "import numpy as np\n",
    "  \n",
    "# create data\n",
    "xx = [t for t in range(len(x))]\n",
    "Y1 = []\n",
    "Y2 = []\n",
    "for i in range(len(xx)):\n",
    "    Y1.append(y1[i]*x[i])\n",
    "    Y2.append(y2[i]*x[i])\n",
    "# plot lines\n",
    "plt.plot(xx, Y1, label = \"Small block\")\n",
    "plt.plot(xx, Y2, label = \"Large block\")\n",
    "plt.legend()\n",
    "plt.show()"
   ]
  },
  {
   "cell_type": "code",
   "execution_count": 36,
   "metadata": {},
   "outputs": [
    {
     "data": {
      "text/plain": [
       "[0.4464316428327859,\n",
       " 3.5831889820399594,\n",
       " 28.014982186940024,\n",
       " 200.00928279903164,\n",
       " 1322.8173738950793,\n",
       " 6903.21652546597,\n",
       " 22422.46889150293,\n",
       " 35985.006530348976]"
      ]
     },
     "execution_count": 36,
     "metadata": {},
     "output_type": "execute_result"
    }
   ],
   "source": [
    "y1"
   ]
  },
  {
   "cell_type": "code",
   "execution_count": 43,
   "metadata": {},
   "outputs": [
    {
     "data": {
      "text/plain": [
       "[0, 1, 2, 3, 4, 5, 6, 7]"
      ]
     },
     "execution_count": 43,
     "metadata": {},
     "output_type": "execute_result"
    }
   ],
   "source": [
    "[t for t in range(len(x))]"
   ]
  },
  {
   "cell_type": "code",
   "execution_count": 12,
   "metadata": {},
   "outputs": [
    {
     "data": {
      "text/plain": [
       "[48055896.0,\n",
       " 48059428.0,\n",
       " ['HG03485_1',\n",
       "  'HG02185_1',\n",
       "  'HG03871_0',\n",
       "  'HG01612_1',\n",
       "  'NA20291_0',\n",
       "  'NA20757_0',\n",
       "  'HG02870_1',\n",
       "  'NA18858_0',\n",
       "  'HG00632_0',\n",
       "  'NA19102_1',\n",
       "  'NA19214_0',\n",
       "  'NA19038_1',\n",
       "  'NA19707_1',\n",
       "  'NA12275_1',\n",
       "  'NA19238_1',\n",
       "  'HG03123_1',\n",
       "  'HG01396_0',\n",
       "  'NA19314_1',\n",
       "  'NA11831_0',\n",
       "  'HG03518_0',\n",
       "  'HG03432_1',\n",
       "  'NA12761_1',\n",
       "  'HG02774_0',\n",
       "  'NA19457_1',\n",
       "  'NA20507_1',\n",
       "  'HG03998_1',\n",
       "  'HG01668_1',\n",
       "  'HG03595_0',\n",
       "  'HG02642_1',\n",
       "  'HG01531_1',\n",
       "  'HG00158_0',\n",
       "  'HG01205_0',\n",
       "  'NA11930_0',\n",
       "  'NA12006_0',\n",
       "  'NA18917_1',\n",
       "  'NA12748_1',\n",
       "  'HG01188_0',\n",
       "  'HG03007_0',\n",
       "  'NA19394_0',\n",
       "  'NA20754_0',\n",
       "  'HG02554_1',\n",
       "  'NA20804_0',\n",
       "  'NA20539_0',\n",
       "  'HG01859_0',\n",
       "  'HG03072_1',\n",
       "  'HG02979_1',\n",
       "  'HG01694_1',\n",
       "  'HG02837_1',\n",
       "  'HG00265_0',\n",
       "  'NA20529_0',\n",
       "  'HG01979_1',\n",
       "  'NA20587_1',\n",
       "  'HG03419_1',\n",
       "  'HG03470_1',\n",
       "  'NA19320_1',\n",
       "  'NA20856_1',\n",
       "  'HG02731_1',\n",
       "  'HG02595_1',\n",
       "  'HG01064_1',\n",
       "  'HG00851_1',\n",
       "  'NA20806_1',\n",
       "  'HG03048_0',\n",
       "  'HG00332_0',\n",
       "  'HG03433_0',\n",
       "  'HG02006_0',\n",
       "  'HG02976_0',\n",
       "  'NA20876_0',\n",
       "  'HG02465_0',\n",
       "  'HG03629_0',\n",
       "  'NA19379_1',\n",
       "  'NA19316_0',\n",
       "  'HG01607_0',\n",
       "  'NA20872_0',\n",
       "  'HG03074_0',\n",
       "  'HG02885_1',\n",
       "  'NA20911_1',\n",
       "  'HG01281_0',\n",
       "  'HG00380_0',\n",
       "  'HG02952_0',\n",
       "  'HG04002_0',\n",
       "  'HG02137_1',\n",
       "  'HG02051_1',\n",
       "  'NA20849_0',\n",
       "  'HG01325_1',\n",
       "  'NA20588_1',\n",
       "  'HG03055_0',\n",
       "  'NA20530_1',\n",
       "  'HG01632_1',\n",
       "  'NA20827_0',\n",
       "  'HG00146_1',\n",
       "  'HG03209_0',\n",
       "  'NA19116_1',\n",
       "  'NA20798_0',\n",
       "  'HG01770_1',\n",
       "  'HG01890_1',\n",
       "  'NA20769_1',\n",
       "  'NA19092_0',\n",
       "  'HG02322_0',\n",
       "  'HG03644_1',\n",
       "  'HG00125_1',\n",
       "  'HG01438_0',\n",
       "  'NA19318_1',\n",
       "  'HG03837_1',\n",
       "  'HG01413_1',\n",
       "  'HG03698_0',\n",
       "  'HG00732_0',\n",
       "  'HG02759_1',\n",
       "  'HG03577_0',\n",
       "  'HG01783_1',\n",
       "  'NA19321_1',\n",
       "  'NA12812_1',\n",
       "  'HG02511_1',\n",
       "  'HG03452_0',\n",
       "  'NA19467_0',\n",
       "  'NA19430_1',\n",
       "  'HG02938_0',\n",
       "  'HG02604_1',\n",
       "  'NA19315_1',\n",
       "  'NA20874_1',\n",
       "  'HG01610_0',\n",
       "  'NA19399_0',\n",
       "  'HG01765_1',\n",
       "  'HG01395_0',\n",
       "  'HG02771_1',\n",
       "  'NA20356_1',\n",
       "  'NA20785_0',\n",
       "  'HG02891_0',\n",
       "  'HG01107_1',\n",
       "  'NA20764_0',\n",
       "  'NA19041_1',\n",
       "  'HG03990_0',\n",
       "  'HG01522_0',\n",
       "  'NA20321_0',\n",
       "  'HG01980_0',\n",
       "  'HG02450_1',\n",
       "  'HG00553_0',\n",
       "  'NA18582_1',\n",
       "  'HG00256_1',\n",
       "  'HG02232_1',\n",
       "  'HG04182_0',\n",
       "  'HG01360_0',\n",
       "  'HG02896_1',\n",
       "  'NA20818_0',\n",
       "  'HG02493_0',\n",
       "  'NA11829_1',\n",
       "  'NA18907_0',\n",
       "  'HG02655_0',\n",
       "  'HG03571_1',\n",
       "  'HG02733_1',\n",
       "  'NA18879_0',\n",
       "  'HG04177_0',\n",
       "  'NA20585_0',\n",
       "  'HG00256_0',\n",
       "  'NA18876_0',\n",
       "  'HG02684_1',\n",
       "  'NA19317_1',\n",
       "  'NA18635_0',\n",
       "  'HG02574_0',\n",
       "  'HG00288_1',\n",
       "  'NA19117_1',\n",
       "  'NA19376_1',\n",
       "  'HG02654_0',\n",
       "  'HG00111_1',\n",
       "  'HG03521_0',\n",
       "  'NA19700_1',\n",
       "  'NA19027_0',\n",
       "  'NA20792_1',\n",
       "  'NA20761_0']]"
      ]
     },
     "execution_count": 12,
     "metadata": {},
     "output_type": "execute_result"
    }
   ],
   "source": [
    "mx[1]"
   ]
  },
  {
   "cell_type": "code",
   "execution_count": 14,
   "metadata": {},
   "outputs": [
    {
     "name": "stdout",
     "output_type": "stream",
     "text": [
      "48055079\n"
     ]
    }
   ],
   "source": [
    "for x in "
   ]
  },
  {
   "cell_type": "code",
   "execution_count": 23,
   "metadata": {},
   "outputs": [
    {
     "data": {
      "text/plain": [
       "[48055079, 48055373.0, ['HG02610_0', 'HG02643_1', 'HG04100_1']]"
      ]
     },
     "execution_count": 23,
     "metadata": {},
     "output_type": "execute_result"
    }
   ],
   "source": []
  },
  {
   "cell_type": "code",
   "execution_count": 32,
   "metadata": {},
   "outputs": [
    {
     "name": "stdout",
     "output_type": "stream",
     "text": [
      "[48055079, 48055094.5, []]\n",
      "[48055094.5, 48055102.5, []]\n",
      "[48055102.5, 48055178.5, []]\n",
      "[48055178.5, 48055248.5, []]\n",
      "[48055248.5, 48055272.0, []]\n",
      "[48055272.0, 48055312.5, []]\n",
      "[48055312.5, 48055335.5, []]\n",
      "[48055335.5, 48055348.5, []]\n",
      "[48055348.5, 48055360.5, []]\n",
      "[48055360.5, 48055368.0, []]\n",
      "[48055368.0, 48055373.0, []]\n"
     ]
    }
   ],
   "source": [
    "def find_mutation_count(mosaic):\n",
    "    cm = [m for m in muts if m>=mosaic[0] and m<mosaic[1]]\n",
    "    return len(cm)\n",
    "\n",
    "target_mosaic = mosaics[10]\n",
    "max_centers = [c for c in centers if c<=target_mosaic[1] and c>=target_mosaic[0]]\n",
    "\n",
    "smaller_mosaics = []\n",
    "for i in range(len(max_centers)-1):\n",
    "    H = [m for m in mosaics if m[0] == max_centers[i] and m[1] == max_centers[i+1]][0]\n",
    "    print(H)\n",
    "    smaller_mosaics.append(H)\n"
   ]
  },
  {
   "cell_type": "code",
   "execution_count": 33,
   "metadata": {},
   "outputs": [
    {
     "data": {
      "text/plain": [
       "11"
      ]
     },
     "execution_count": 33,
     "metadata": {},
     "output_type": "execute_result"
    }
   ],
   "source": [
    "find_mutation_count(target_mosaic)"
   ]
  },
  {
   "cell_type": "code",
   "execution_count": 35,
   "metadata": {},
   "outputs": [
    {
     "name": "stdout",
     "output_type": "stream",
     "text": [
      "1\n",
      "1\n",
      "1\n",
      "1\n",
      "1\n",
      "1\n",
      "1\n",
      "1\n",
      "1\n",
      "1\n",
      "1\n"
     ]
    }
   ],
   "source": [
    "for sm in smaller_mosaics:\n",
    "    print(find_mutation_count(sm))"
   ]
  },
  {
   "cell_type": "code",
   "execution_count": 38,
   "metadata": {},
   "outputs": [],
   "source": [
    "from BlockSelector import find_mosaic_score\n",
    "\n",
    "spans[0]  # Start, End, # Remove, Time, # SNPs\n",
    "scores = []\n",
    "for sm in smaller_mosaics:\n",
    "    tm = tf.find_mrca_time(mx[1][0], mx[1][1], mx[1][2], rate)\n",
    "\n",
    "    s = find_mosaic_score([sm[0], sm[1], len(sm[2]), 1.5, find_mutation_count(sm)], 0.6)\n",
    "    scores.append(s)\n"
   ]
  },
  {
   "cell_type": "code",
   "execution_count": 39,
   "metadata": {},
   "outputs": [
    {
     "data": {
      "text/plain": [
       "[0.00045,\n",
       " 0.00045,\n",
       " 0.00045,\n",
       " 0.00045,\n",
       " 0.00045,\n",
       " 0.00045,\n",
       " 0.00045,\n",
       " 0.00045,\n",
       " 0.00045,\n",
       " 0.00045,\n",
       " 0.00045]"
      ]
     },
     "execution_count": 39,
     "metadata": {},
     "output_type": "execute_result"
    }
   ],
   "source": [
    "scores"
   ]
  },
  {
   "cell_type": "code",
   "execution_count": null,
   "metadata": {},
   "outputs": [],
   "source": []
  }
 ],
 "metadata": {
  "interpreter": {
   "hash": "aee8b7b246df8f9039afb4144a1f6fd8d2ca17a180786b69acc140d282b71a49"
  },
  "kernelspec": {
   "display_name": "Python 3.9.9 64-bit",
   "language": "python",
   "name": "python3"
  },
  "language_info": {
   "codemirror_mode": {
    "name": "ipython",
    "version": 3
   },
   "file_extension": ".py",
   "mimetype": "text/x-python",
   "name": "python",
   "nbconvert_exporter": "python",
   "pygments_lexer": "ipython3",
   "version": "3.9.9"
  },
  "orig_nbformat": 4
 },
 "nbformat": 4,
 "nbformat_minor": 2
}
