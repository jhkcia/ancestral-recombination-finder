{
 "cells": [
  {
   "cell_type": "code",
   "execution_count": 26,
   "metadata": {},
   "outputs": [
    {
     "name": "stdout",
     "output_type": "stream",
     "text": [
      "The autoreload extension is already loaded. To reload it, use:\n",
      "  %reload_ext autoreload\n"
     ]
    }
   ],
   "source": [
    "%load_ext autoreload\n",
    "%autoreload 2\n"
   ]
  },
  {
   "cell_type": "code",
   "execution_count": 18,
   "metadata": {},
   "outputs": [
    {
     "name": "stdout",
     "output_type": "stream",
     "text": [
      "0, 19\n"
     ]
    }
   ],
   "source": [
    "\n",
    "from SNPDataSet import get_snp_dfs, get_test_mutation_df\n",
    "from utils import convert_mutation_df_to_vcf\n",
    "\n",
    "# muts = get_snp_dfs()\n",
    "muts = get_test_mutation_df()\n",
    "vcf = convert_mutation_df_to_vcf(muts)\n"
   ]
  },
  {
   "cell_type": "code",
   "execution_count": 19,
   "metadata": {},
   "outputs": [
    {
     "data": {
      "text/html": [
       "<div>\n",
       "<style scoped>\n",
       "    .dataframe tbody tr th:only-of-type {\n",
       "        vertical-align: middle;\n",
       "    }\n",
       "\n",
       "    .dataframe tbody tr th {\n",
       "        vertical-align: top;\n",
       "    }\n",
       "\n",
       "    .dataframe thead th {\n",
       "        text-align: right;\n",
       "    }\n",
       "</style>\n",
       "<table border=\"1\" class=\"dataframe\">\n",
       "  <thead>\n",
       "    <tr style=\"text-align: right;\">\n",
       "      <th></th>\n",
       "      <th>1</th>\n",
       "      <th>3</th>\n",
       "      <th>6</th>\n",
       "      <th>7</th>\n",
       "      <th>8</th>\n",
       "    </tr>\n",
       "  </thead>\n",
       "  <tbody>\n",
       "    <tr>\n",
       "      <th>A</th>\n",
       "      <td>1</td>\n",
       "      <td>0</td>\n",
       "      <td>1</td>\n",
       "      <td>0</td>\n",
       "      <td>1</td>\n",
       "    </tr>\n",
       "    <tr>\n",
       "      <th>B</th>\n",
       "      <td>1</td>\n",
       "      <td>0</td>\n",
       "      <td>0</td>\n",
       "      <td>1</td>\n",
       "      <td>1</td>\n",
       "    </tr>\n",
       "    <tr>\n",
       "      <th>C</th>\n",
       "      <td>1</td>\n",
       "      <td>1</td>\n",
       "      <td>1</td>\n",
       "      <td>1</td>\n",
       "      <td>1</td>\n",
       "    </tr>\n",
       "    <tr>\n",
       "      <th>D</th>\n",
       "      <td>1</td>\n",
       "      <td>1</td>\n",
       "      <td>0</td>\n",
       "      <td>0</td>\n",
       "      <td>1</td>\n",
       "    </tr>\n",
       "    <tr>\n",
       "      <th>E</th>\n",
       "      <td>0</td>\n",
       "      <td>0</td>\n",
       "      <td>1</td>\n",
       "      <td>0</td>\n",
       "      <td>1</td>\n",
       "    </tr>\n",
       "    <tr>\n",
       "      <th>F</th>\n",
       "      <td>0</td>\n",
       "      <td>0</td>\n",
       "      <td>0</td>\n",
       "      <td>0</td>\n",
       "      <td>1</td>\n",
       "    </tr>\n",
       "    <tr>\n",
       "      <th>G</th>\n",
       "      <td>0</td>\n",
       "      <td>1</td>\n",
       "      <td>0</td>\n",
       "      <td>0</td>\n",
       "      <td>1</td>\n",
       "    </tr>\n",
       "  </tbody>\n",
       "</table>\n",
       "</div>"
      ],
      "text/plain": [
       "   1  3  6  7  8\n",
       "A  1  0  1  0  1\n",
       "B  1  0  0  1  1\n",
       "C  1  1  1  1  1\n",
       "D  1  1  0  0  1\n",
       "E  0  0  1  0  1\n",
       "F  0  0  0  0  1\n",
       "G  0  1  0  0  1"
      ]
     },
     "execution_count": 19,
     "metadata": {},
     "output_type": "execute_result"
    }
   ],
   "source": [
    "vcf"
   ]
  },
  {
   "cell_type": "code",
   "execution_count": 42,
   "metadata": {},
   "outputs": [],
   "source": [
    "\n",
    "from SpanFinderNew import SpanFinder\n",
    "\n",
    "sf = SpanFinder(vcf, True)"
   ]
  },
  {
   "cell_type": "code",
   "execution_count": 44,
   "metadata": {},
   "outputs": [
    {
     "name": "stdout",
     "output_type": "stream",
     "text": [
      "checking position 1 of 5\n",
      "position is 1\n",
      "checking position 3\n",
      "find_combinations for positions 1, 3\n",
      "combinations for positions 1, 3 :{'00': 2, '01': 1, '10': 2, '11': 2}\n",
      "{'G'}\n",
      "set()\n",
      "adding data 1 || 3 || {'G'}\n",
      "checking position 6\n",
      "find_combinations for positions 1, 6\n",
      "combinations for positions 1, 6 :{'00': 1, '01': 1, '10': 2, '11': 2}\n",
      "{'G', 'F'}\n",
      "{'G'}\n",
      "find_combinations for positions 3, 6\n",
      "combinations for positions 3, 6 :{'00': 1, '01': 2, '10': 1, '11': 1}\n",
      "{'F', 'B'}\n",
      "{'G', 'F'}\n",
      "adding data 3 || 6 || {'G', 'F', 'B'}\n",
      "checking position 7\n",
      "find_combinations for positions 1, 7\n",
      "combinations for positions 1, 7 :{'00': 1, '01': 0, '10': 2, '11': 1}\n",
      "set()\n",
      "{'G', 'F', 'B'}\n",
      "find_combinations for positions 3, 7\n",
      "combinations for positions 3, 7 :{'00': 2, '01': 0, '10': 1, '11': 1}\n",
      "{'B'}\n",
      "{'G', 'F', 'B'}\n",
      "find_combinations for positions 6, 7\n",
      "combinations for positions 6, 7 :{'00': 1, '01': 0, '10': 2, '11': 1}\n",
      "{'B'}\n",
      "{'G', 'F', 'B'}\n",
      "max threshold arrived in position 7\n",
      "Done with length =2\n",
      "checking position 2 of 5\n",
      "position is 3\n",
      "checking position 6\n",
      "find_combinations for positions 3, 6\n",
      "combinations for positions 3, 6 :{'00': 2, '01': 2, '10': 2, '11': 1}\n",
      "{'C'}\n",
      "set()\n",
      "adding data 3 || 6 || {'C'}\n",
      "checking position 7\n",
      "find_combinations for positions 3, 7\n",
      "combinations for positions 3, 7 :{'00': 3, '01': 1, '10': 2, '11': 0}\n",
      "{'C'}\n",
      "{'C'}\n",
      "find_combinations for positions 6, 7\n",
      "combinations for positions 6, 7 :{'00': 3, '01': 1, '10': 2, '11': 0}\n",
      "{'C'}\n",
      "{'C'}\n",
      "adding data 6 || 7 || {'C'}\n",
      "checking position 8\n",
      "find_combinations for positions 3, 8\n",
      "combinations for positions 3, 8 :{'00': 0, '01': 4, '10': 0, '11': 2}\n",
      "set()\n",
      "{'C'}\n",
      "find_combinations for positions 6, 8\n",
      "combinations for positions 6, 8 :{'00': 0, '01': 4, '10': 0, '11': 2}\n",
      "set()\n",
      "{'C'}\n",
      "find_combinations for positions 7, 8\n",
      "combinations for positions 7, 8 :{'00': 0, '01': 5, '10': 0, '11': 1}\n",
      "set()\n",
      "{'C'}\n",
      "adding data 7 || 8 || {'C'}\n",
      "checking position 8\n",
      "Arrive to end.\n",
      "Done with length =3\n",
      "checking position 3 of 5\n",
      "position is 6\n",
      "checking position 7\n",
      "find_combinations for positions 6, 7\n",
      "combinations for positions 6, 7 :{'00': 3, '01': 1, '10': 2, '11': 1}\n",
      "{'B'}\n",
      "set()\n",
      "adding data 6 || 7 || {'B'}\n",
      "checking position 8\n",
      "find_combinations for positions 6, 8\n",
      "combinations for positions 6, 8 :{'00': 0, '01': 3, '10': 0, '11': 3}\n",
      "set()\n",
      "{'B'}\n",
      "find_combinations for positions 7, 8\n",
      "combinations for positions 7, 8 :{'00': 0, '01': 5, '10': 0, '11': 1}\n",
      "set()\n",
      "{'B'}\n",
      "adding data 7 || 8 || {'B'}\n",
      "checking position 8\n",
      "Arrive to end.\n",
      "Done with length =2\n",
      "checking position 4 of 5\n",
      "position is 7\n",
      "checking position 8\n",
      "find_combinations for positions 7, 8\n",
      "combinations for positions 7, 8 :{'00': 0, '01': 5, '10': 0, '11': 2}\n",
      "set()\n",
      "set()\n",
      "adding data 7 || 8 || set()\n",
      "checking position 8\n",
      "Arrive to end.\n",
      "Done with length =1\n",
      "checking position 5 of 5\n",
      "position is 8\n",
      "checking position 8\n",
      "Arrive to end.\n",
      "Done with length =0\n"
     ]
    },
    {
     "data": {
      "text/plain": [
       "[[1, [[3, ['G']], [6, ['G', 'F', 'B']]]],\n",
       " [3, [[6, ['C']], [7, ['C']], [8, ['C']]]],\n",
       " [6, [[7, ['B']], [8, ['B']]]],\n",
       " [7, [[8, []]]],\n",
       " [8, []]]"
      ]
     },
     "execution_count": 44,
     "metadata": {},
     "output_type": "execute_result"
    }
   ],
   "source": [
    "sf.find_all_spans(90, 5)"
   ]
  },
  {
   "cell_type": "code",
   "execution_count": null,
   "metadata": {},
   "outputs": [],
   "source": []
  }
 ],
 "metadata": {
  "interpreter": {
   "hash": "aee8b7b246df8f9039afb4144a1f6fd8d2ca17a180786b69acc140d282b71a49"
  },
  "kernelspec": {
   "display_name": "Python 3.9.9 64-bit",
   "language": "python",
   "name": "python3"
  },
  "language_info": {
   "codemirror_mode": {
    "name": "ipython",
    "version": 3
   },
   "file_extension": ".py",
   "mimetype": "text/x-python",
   "name": "python",
   "nbconvert_exporter": "python",
   "pygments_lexer": "ipython3",
   "version": "3.9.9"
  },
  "orig_nbformat": 4
 },
 "nbformat": 4,
 "nbformat_minor": 2
}
